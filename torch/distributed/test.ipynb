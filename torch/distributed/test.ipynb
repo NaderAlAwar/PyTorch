{
  "cells": [
    {
      "cell_type": "code",
      "execution_count": 1,
      "metadata": {},
      "outputs": [],
      "source": [
        "import torch"
      ]
    },
    {
      "cell_type": "code",
      "execution_count": 2,
      "metadata": {},
      "outputs": [],
      "source": [
        "from torch.distributed.checkpoint.state_dict import get_state_dict"
      ]
    },
    {
      "cell_type": "code",
      "execution_count": 8,
      "metadata": {},
      "outputs": [],
      "source": [
        "import torch.nn as nn\n",
        "class ToyModel(nn.Module):\n",
        "    def __init__(self):\n",
        "        super(ToyModel, self).__init__()\n",
        "        self.net1 = nn.Linear(16, 16)\n",
        "        self.relu = nn.ReLU()\n",
        "        self.net2 = nn.Linear(16, 8)\n",
        "\n",
        "    def forward(self, x):\n",
        "        return self.net2(self.relu(self.net1(x)))\n",
        "model = ToyModel()"
      ]
    },
    {
      "cell_type": "code",
      "execution_count": 9,
      "metadata": {},
      "outputs": [],
      "source": [
        "optim = torch.optim.Adam(model.parameters(), lr=1e-3)"
      ]
    },
    {
      "cell_type": "code",
      "execution_count": 10,
      "metadata": {},
      "outputs": [],
      "source": [
        "model_sd, optim_sd = get_state_dict(model, optim)"
      ]
    },
    {
      "cell_type": "code",
      "execution_count": 15,
      "metadata": {
        "output": {
          "id": 29333630369555530,
          "loadingStatus": "loaded"
        }
      },
      "outputs": [
        {
          "data": {
            "text/plain": [
              "Metadata(state_dict_metadata={'net1.weight': TensorStorageMetadata(properties=TensorProperties(dtype=torch.float32, layout=torch.strided, requires_grad=False, memory_format=torch.contiguous_format, pin_memory=False), size=torch.Size([16, 16]), chunks=[ChunkStorageMetadata(offsets=torch.Size([0, 0]), sizes=torch.Size([16, 16]))]), 'net1.bias': TensorStorageMetadata(properties=TensorProperties(dtype=torch.float32, layout=torch.strided, requires_grad=False, memory_format=torch.contiguous_format, pin_memory=False), size=torch.Size([16]), chunks=[ChunkStorageMetadata(offsets=torch.Size([0]), sizes=torch.Size([16]))]), 'net2.weight': TensorStorageMetadata(properties=TensorProperties(dtype=torch.float32, layout=torch.strided, requires_grad=False, memory_format=torch.contiguous_format, pin_memory=False), size=torch.Size([8, 16]), chunks=[ChunkStorageMetadata(offsets=torch.Size([0, 0]), sizes=torch.Size([8, 16]))]), 'net2.bias': TensorStorageMetadata(properties=TensorProperties(dtype=torch.float32, layout=torch.strided, requires_grad=False, memory_format=torch.contiguous_format, pin_memory=False), size=torch.Size([8]), chunks=[ChunkStorageMetadata(offsets=torch.Size([0]), sizes=torch.Size([8]))])}, planner_data={'net1.weight': ('net1.weight',), 'net1.bias': ('net1.bias',), 'net2.weight': ('net2.weight',), 'net2.bias': ('net2.bias',)}, storage_data={MetadataIndex(fqn='net2.bias', offset=torch.Size([0]), index=0): _StorageInfo(relative_path='__0_0.distcp', offset=0, length=1577, transform_descriptors=None), MetadataIndex(fqn='net1.bias', offset=torch.Size([0]), index=0): _StorageInfo(relative_path='__0_0.distcp', offset=1577, length=1641, transform_descriptors=None), MetadataIndex(fqn='net2.weight', offset=torch.Size([0, 0]), index=0): _StorageInfo(relative_path='__0_0.distcp', offset=3218, length=2089, transform_descriptors=None), MetadataIndex(fqn='net1.weight', offset=torch.Size([0, 0]), index=0): _StorageInfo(relative_path='__0_0.distcp', offset=5307, length=2601, transform_descriptors=None)}, storage_meta=StorageMeta(checkpoint_id='.', save_id='3edfe72b-8ac2-4446-b15d-f433627bb4e6', load_id=None, modules=[]))"
            ]
          },
          "execution_count": 22,
          "metadata": {},
          "output_type": "execute_result"
        }
      ],
      "source": [
        "import torch.distributed.checkpoint as dcp\n",
        "CHECKPOINT_DIR = \".\"\n",
        "dcp.save(model_sd, checkpoint_id=CHECKPOINT_DIR)"
      ]
    },
    {
      "cell_type": "code",
      "execution_count": 14,
      "metadata": {
        "output": {
          "id": 1713451102889440,
          "loadingStatus": "loaded"
        }
      },
      "outputs": [
        {
          "name": "stderr",
          "output_type": "stream",
          "text": [
            "4229.92s - pydevd: Sending message related to process being replaced timed-out after 5 seconds\n"
          ]
        },
        {
          "name": "stdout",
          "output_type": "stream",
          "text": [
            "/data/users/howardhuang\r\n"
          ]
        }
      ],
      "source": [
        "!pwd"
      ]
    },
    {
      "cell_type": "code",
      "execution_count": 17,
      "metadata": {},
      "outputs": [
        {
          "ename": "CheckpointException",
          "evalue": "CheckpointException ranks:dict_keys([0])\nTraceback (most recent call last): (RANK 0)\n  File \"/home/howardhuang/local/pytorch/torch/distributed/checkpoint/utils.py\", line 192, in reduce_scatter\n    local_data = map_fun()\n  File \"/home/howardhuang/local/pytorch/torch/distributed/checkpoint/logger.py\", line 87, in wrapper\n    result = func(*args, **kwargs)\n  File \"/home/howardhuang/local/pytorch/torch/distributed/checkpoint/state_dict_loader.py\", line 223, in local_step\n    local_plan = planner.create_local_plan()\n  File \"/home/howardhuang/local/pytorch/torch/distributed/checkpoint/default_planner.py\", line 334, in create_local_plan\n    return create_default_local_load_plan(\n  File \"/home/howardhuang/local/pytorch/torch/distributed/checkpoint/default_planner.py\", line 455, in create_default_local_load_plan\n    raise RuntimeError(f\"Missing key in checkpoint state_dict: {fqn}.\")\nRuntimeError: Missing key in checkpoint state_dict: model.net1.weight.\n",
          "output_type": "error",
          "traceback": [
            "\u001b[0;31m---------------------------------------------------------------------------\u001b[0m\n",
            "\u001b[0;31mCheckpointException\u001b[0m                       Traceback (most recent call last)\n",
            "Cell \u001b[0;32mIn[26], line 2\u001b[0m\n",
            "\u001b[1;32m      1\u001b[0m sd \u001b[38;5;241m=\u001b[39m {\u001b[38;5;124m\"\u001b[39m\u001b[38;5;124mmodel\u001b[39m\u001b[38;5;124m\"\u001b[39m: model}\n",
            "\u001b[0;32m----> 2\u001b[0m dcp\u001b[49m\u001b[38;5;241;43m.\u001b[39;49mload\u001b[49m(\u001b[49msd\u001b[49m,\u001b[49m \u001b[49mcheckpoint_id\u001b[49m\u001b[38;5;241;43m=\u001b[39;49mCHECKPOINT_DIR\u001b[49m)\u001b[49m\n",
            "\n",
            "File \u001b[0;32m~/local/pytorch/torch/distributed/checkpoint/logger.py:87\u001b[0m, in \u001b[0;36m_dcp_method_logger.<locals>.decorator.<locals>.wrapper\u001b[0;34m(*args, **kwargs)\u001b[0m\n",
            "\u001b[1;32m     85\u001b[0m \u001b[38;5;66;03m# exceptions\u001b[39;00m\n",
            "\u001b[1;32m     86\u001b[0m \u001b[38;5;28;01mtry\u001b[39;00m:\n",
            "\u001b[0;32m---> 87\u001b[0m     result \u001b[38;5;241m=\u001b[39m func\u001b[49m(\u001b[49m\u001b[38;5;241;43m*\u001b[39;49margs\u001b[49m,\u001b[49m \u001b[49m\u001b[38;5;241;43m*\u001b[39;49m\u001b[38;5;241;43m*\u001b[39;49mkwargs\u001b[49m)\u001b[49m\n",
            "\u001b[1;32m     88\u001b[0m \u001b[38;5;28;01mexcept\u001b[39;00m \u001b[38;5;167;01mBaseException\u001b[39;00m \u001b[38;5;28;01mas\u001b[39;00m error:\n",
            "\u001b[1;32m     89\u001b[0m     \u001b[38;5;28;01mif\u001b[39;00m log_exceptions:\n",
            "\n",
            "File \u001b[0;32m~/local/pytorch/torch/distributed/checkpoint/utils.py:465\u001b[0m, in \u001b[0;36m_api_bc_check.<locals>.inner_func\u001b[0;34m(*args, **kwargs)\u001b[0m\n",
            "\u001b[1;32m    463\u001b[0m     \u001b[38;5;28;01mreturn\u001b[39;00m func(args[\u001b[38;5;241m0\u001b[39m], \u001b[38;5;241m*\u001b[39m\u001b[38;5;241m*\u001b[39mkwargs)\n",
            "\u001b[1;32m    464\u001b[0m \u001b[38;5;28;01melse\u001b[39;00m:\n",
            "\u001b[0;32m--> 465\u001b[0m     \u001b[38;5;28;01mreturn\u001b[39;00m func\u001b[49m(\u001b[49m\u001b[38;5;241;43m*\u001b[39;49margs\u001b[49m,\u001b[49m \u001b[49m\u001b[38;5;241;43m*\u001b[39;49m\u001b[38;5;241;43m*\u001b[39;49mkwargs\u001b[49m)\u001b[49m\n",
            "\n",
            "File \u001b[0;32m~/local/pytorch/torch/distributed/checkpoint/state_dict_loader.py:177\u001b[0m, in \u001b[0;36mload\u001b[0;34m(state_dict, checkpoint_id, storage_reader, planner, process_group, no_dist)\u001b[0m\n",
            "\u001b[1;32m    172\u001b[0m     elem \u001b[38;5;241m=\u001b[39m state_dict[key]\n",
            "\u001b[1;32m    173\u001b[0m     statetful_sd[key] \u001b[38;5;241m=\u001b[39m (\n",
            "\u001b[1;32m    174\u001b[0m         elem\u001b[38;5;241m.\u001b[39mstate_dict() \u001b[38;5;28;01mif\u001b[39;00m \u001b[38;5;28misinstance\u001b[39m(elem, Stateful) \u001b[38;5;28;01melse\u001b[39;00m elem\n",
            "\u001b[1;32m    175\u001b[0m     )\n",
            "\u001b[0;32m--> 177\u001b[0m _load_state_dict\u001b[49m(\u001b[49m\n",
            "\u001b[1;32m    178\u001b[0m     \u001b[49mstate_dict\u001b[49m\u001b[38;5;241;43m=\u001b[39;49mstatetful_sd\u001b[49m,\u001b[49m\n",
            "\u001b[1;32m    179\u001b[0m     \u001b[49mstorage_reader\u001b[49m\u001b[38;5;241;43m=\u001b[39;49mstorage_reader\u001b[49m,\u001b[49m\n",
            "\u001b[1;32m    180\u001b[0m     \u001b[49mprocess_group\u001b[49m\u001b[38;5;241;43m=\u001b[39;49mprocess_group\u001b[49m,\u001b[49m\n",
            "\u001b[1;32m    181\u001b[0m     \u001b[49mno_dist\u001b[49m\u001b[38;5;241;43m=\u001b[39;49mno_dist\u001b[49m,\u001b[49m\n",
            "\u001b[1;32m    182\u001b[0m     \u001b[49mplanner\u001b[49m\u001b[38;5;241;43m=\u001b[39;49mplanner\u001b[49m,\u001b[49m\n",
            "\u001b[1;32m    183\u001b[0m \u001b[49m)\u001b[49m\n",
            "\u001b[1;32m    184\u001b[0m \u001b[38;5;28;01mfor\u001b[39;00m key \u001b[38;5;129;01min\u001b[39;00m keys:\n",
            "\u001b[1;32m    185\u001b[0m     \u001b[38;5;28;01mif\u001b[39;00m key \u001b[38;5;129;01mnot\u001b[39;00m \u001b[38;5;129;01min\u001b[39;00m state_dict:\n",
            "\n",
            "File \u001b[0;32m~/local/pytorch/torch/distributed/checkpoint/state_dict_loader.py:234\u001b[0m, in \u001b[0;36m_load_state_dict\u001b[0;34m(state_dict, storage_reader, process_group, coordinator_rank, no_dist, planner)\u001b[0m\n",
            "\u001b[1;32m    231\u001b[0m     all_local_plans \u001b[38;5;241m=\u001b[39m storage_reader\u001b[38;5;241m.\u001b[39mprepare_global_plan(all_local_plans)\n",
            "\u001b[1;32m    232\u001b[0m     \u001b[38;5;28;01mreturn\u001b[39;00m all_local_plans\n",
            "\u001b[0;32m--> 234\u001b[0m central_plan: LoadPlan \u001b[38;5;241m=\u001b[39m distW\u001b[49m\u001b[38;5;241;43m.\u001b[39;49mreduce_scatter\u001b[49m(\u001b[49m\u001b[38;5;124;43m\"\u001b[39;49m\u001b[38;5;124;43mplan\u001b[39;49m\u001b[38;5;124;43m\"\u001b[39;49m,\u001b[49m \u001b[49mlocal_step\u001b[49m,\u001b[49m \u001b[49mglobal_step\u001b[49m)\u001b[49m\n",
            "\u001b[1;32m    236\u001b[0m \u001b[38;5;129m@_dcp_method_logger\u001b[39m(\u001b[38;5;241m*\u001b[39m\u001b[38;5;241m*\u001b[39mckpt_kwargs)\n",
            "\u001b[1;32m    237\u001b[0m \u001b[38;5;28;01mdef\u001b[39;00m \u001b[38;5;21mread_data\u001b[39m():\n",
            "\u001b[1;32m    238\u001b[0m     \u001b[38;5;28;01massert\u001b[39;00m planner \u001b[38;5;129;01mis\u001b[39;00m \u001b[38;5;129;01mnot\u001b[39;00m \u001b[38;5;28;01mNone\u001b[39;00m\n",
            "\n",
            "File \u001b[0;32m~/local/pytorch/torch/distributed/checkpoint/utils.py:219\u001b[0m, in \u001b[0;36m_DistWrapper.reduce_scatter\u001b[0;34m(self, step, map_fun, reduce_fun)\u001b[0m\n",
            "\u001b[1;32m    217\u001b[0m result \u001b[38;5;241m=\u001b[39m \u001b[38;5;28mself\u001b[39m\u001b[38;5;241m.\u001b[39mscatter_object(all_results)\n",
            "\u001b[1;32m    218\u001b[0m \u001b[38;5;28;01mif\u001b[39;00m \u001b[38;5;28misinstance\u001b[39m(result, CheckpointException):\n",
            "\u001b[0;32m--> 219\u001b[0m     \u001b[38;5;28;01mraise\u001b[39;00m result\n",
            "\u001b[1;32m    220\u001b[0m \u001b[38;5;28;01mreturn\u001b[39;00m result\n",
            "\n",
            "\u001b[0;31mCheckpointException\u001b[0m: CheckpointException ranks:dict_keys([0])\n",
            "Traceback (most recent call last): (RANK 0)\n",
            "  File \"/home/howardhuang/local/pytorch/torch/distributed/checkpoint/utils.py\", line 192, in reduce_scatter\n",
            "    local_data = map_fun()\n",
            "  File \"/home/howardhuang/local/pytorch/torch/distributed/checkpoint/logger.py\", line 87, in wrapper\n",
            "    result = func(*args, **kwargs)\n",
            "  File \"/home/howardhuang/local/pytorch/torch/distributed/checkpoint/state_dict_loader.py\", line 223, in local_step\n",
            "    local_plan = planner.create_local_plan()\n",
            "  File \"/home/howardhuang/local/pytorch/torch/distributed/checkpoint/default_planner.py\", line 334, in create_local_plan\n",
            "    return create_default_local_load_plan(\n",
            "  File \"/home/howardhuang/local/pytorch/torch/distributed/checkpoint/default_planner.py\", line 455, in create_default_local_load_plan\n",
            "    raise RuntimeError(f\"Missing key in checkpoint state_dict: {fqn}.\")\n",
            "RuntimeError: Missing key in checkpoint state_dict: model.net1.weight.\n"
          ]
        }
      ],
      "source": [
        "sd = {\"model\": model}\n",
        "dcp.load(sd, checkpoint_id=CHECKPOINT_DIR)"
      ]
    },
    {
      "cell_type": "code",
      "execution_count": 7,
      "metadata": {
        "output": {
          "id": 517906501012837,
          "loadingStatus": "loaded"
        }
      },
      "outputs": [
        {
          "ename": "ImportError",
          "evalue": "cannot import name 'my_function' from 'torch.distributed.checkpoint._in_memory_checkpoint' (/home/howardhuang/local/pytorch/torch/distributed/checkpoint/_in_memory_checkpoint.py)",
          "output_type": "error",
          "traceback": [
            "\u001b[0;31m---------------------------------------------------------------------------\u001b[0m\n",
            "\u001b[0;31mImportError\u001b[0m                               Traceback (most recent call last)\n",
            "Cell \u001b[0;32mIn[9], line 1\u001b[0m\n",
            "\u001b[0;32m----> 1\u001b[0m \u001b[38;5;28;01mfrom\u001b[39;00m \u001b[38;5;21;01mtorch\u001b[39;00m\u001b[38;5;21;01m.\u001b[39;00m\u001b[38;5;21;01mdistributed\u001b[39;00m\u001b[38;5;21;01m.\u001b[39;00m\u001b[38;5;21;01mcheckpoint\u001b[39;00m\u001b[38;5;21;01m.\u001b[39;00m\u001b[38;5;21;01m_in_memory_checkpoint\u001b[39;00m \u001b[38;5;28;01mimport\u001b[39;00m my_function\n",
            "\u001b[1;32m      3\u001b[0m my_function()\n",
            "\n",
            "\u001b[0;31mImportError\u001b[0m: cannot import name 'my_function' from 'torch.distributed.checkpoint._in_memory_checkpoint' (/home/howardhuang/local/pytorch/torch/distributed/checkpoint/_in_memory_checkpoint.py)"
          ]
        }
      ],
      "source": [
        "from torch.distributed.checkpoint._in_memory_checkpoint import my_function\n",
        "\n",
        "my_function()"
      ]
    },
    {
      "cell_type": "code",
      "execution_count": null,
      "metadata": {
        "output": {
          "id": 573156702414769,
          "loadingStatus": "loaded"
        }
      },
      "outputs": [
        {
          "data": {
            "text/plain": [
              "(1,)"
            ]
          },
          "execution_count": 13,
          "metadata": {},
          "output_type": "execute_result"
        }
      ],
      "source": [
        "t = torch.Tensor([1, 2, 3])\n",
        "t.stride()"
      ]
    },
    {
      "cell_type": "code",
      "execution_count": null,
      "metadata": {
        "output": {
          "id": 3222316397911376,
          "loadingStatus": "loaded"
        }
      },
      "outputs": [
        {
          "name": "stdout",
          "output_type": "stream",
          "text": [
            "Hello Worlda\u0000\u0000\u0000\n",
            "Hello World\n"
          ]
        }
      ],
      "source": [
        "import mmap\n",
        "import os\n",
        "\n",
        "# Define the file path and size\n",
        "file_path = 'persistent_storage.dat'\n",
        "file_size = 1024  # 1 KB for demonstration\n",
        "\n",
        "# Create a file and set its size\n",
        "with open(file_path, 'wb') as f:\n",
        "    f.write(b'\\x00' * file_size)\n",
        "\n",
        "# Open the file for reading and writing\n",
        "with open(file_path, 'r+b') as f:\n",
        "    # Memory-map the file\n",
        "    mm = mmap.mmap(f.fileno(), file_size)\n",
        "\n",
        "    # Write data to the memory-mapped file\n",
        "    mm[0:12] = b'Hello Worlda'\n",
        "\n",
        "    # Read data from the memory-mapped file\n",
        "    print(mm[0:15].decode('utf-8'))  # Output: Hello World\n",
        "\n",
        "    # Close the memory-mapped file\n",
        "    mm.close()\n",
        "\n",
        "# At this point, the data is saved to 'persistent_storage.dat' on disk\n",
        "\n",
        "# To demonstrate persistence, open the file again in a new process or later\n",
        "with open(file_path, 'r+b') as f:\n",
        "    mm = mmap.mmap(f.fileno(), file_size)\n",
        "\n",
        "    # Read the persisted data\n",
        "    print(mm[0:11].decode('utf-8'))  # Output: Hello World\n",
        "\n",
        "    mm.close()"
      ]
    },
    {
      "cell_type": "code",
      "execution_count": null,
      "metadata": {
        "output": {
          "id": 978633167731894,
          "loadingStatus": "loaded"
        }
      },
      "outputs": [
        {
          "name": "stdout",
          "output_type": "stream",
          "text": [
            "__0_0.distcp  \u001b[0m\u001b[01;34mdotsync-home\u001b[0m/  persistent_storage.dat\r\n",
            "\u001b[01;34mbento-cache\u001b[0m/  \u001b[01;34mnotebooks\u001b[0m/     \u001b[01;34mscratch\u001b[0m/\r\n"
          ]
        }
      ],
      "source": [
        "ls"
      ]
    },
    {
      "cell_type": "code",
      "execution_count": null,
      "metadata": {},
      "outputs": [],
      "source": []
    }
  ],
  "metadata": {
    "fileHeader": "",
    "fileUid": "991d1613-7ee6-45b4-96d6-d816a73630a2",
    "isAdHoc": false,
    "kernelspec": {
      "display_name": "titan (conda)",
      "language": "python",
      "name": "conda_titan_local"
    },
    "language_info": {
      "name": "plaintext"
    },
    "orig_nbformat": 4
  }
}
